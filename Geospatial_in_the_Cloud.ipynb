{
  "cells": [
    {
      "cell_type": "markdown",
      "metadata": {
        "id": "view-in-github",
        "colab_type": "text"
      },
      "source": [
        "<a href=\"https://colab.research.google.com/github/datamongerbonny/Large-Data-Resources/blob/main/Geospatial_in_the_Cloud.ipynb\" target=\"_parent\"><img src=\"https://colab.research.google.com/assets/colab-badge.svg\" alt=\"Open In Colab\"/></a>"
      ]
    },
    {
      "cell_type": "markdown",
      "id": "75e0b53a",
      "metadata": {
        "id": "75e0b53a"
      },
      "source": [
        "# Chapter 4: Geospatial in the Cloud"
      ]
    },
    {
      "cell_type": "markdown",
      "source": [
        "\n",
        "\n",
        "If your widgets are not running properly in binder--jupyter lab is known to be problematic for versions beyond 7.5--you can run pip list to see your version. Either downgrade or:\n",
        "\n",
        "\n",
        "delete ipywidgets\n",
        "\n",
        "pip install ipywidgets\n",
        "conda install -c conda-forge ipyml\n",
        "\n",
        "check if it worked by running:\n",
        "\n",
        "!jupyter labextension list\n",
        "\n",
        "If it works, you should be good to go!\n",
        "\n"
      ],
      "metadata": {
        "id": "SGYfPSRi_Z59"
      },
      "id": "SGYfPSRi_Z59"
    },
    {
      "cell_type": "code",
      "source": [
        "#pip uninstall jupyterlab_widgets\n",
        "#pip install jupyterlab_widgets"
      ],
      "metadata": {
        "id": "U7hqjjQxBDbP"
      },
      "id": "U7hqjjQxBDbP",
      "execution_count": 5,
      "outputs": []
    },
    {
      "cell_type": "code",
      "source": [
        "# or it could be matplotlib not playing nicely\n",
        "#jupyter labextension install js\n"
      ],
      "metadata": {
        "id": "F4xZPAl-BY5_"
      },
      "id": "F4xZPAl-BY5_",
      "execution_count": 4,
      "outputs": []
    },
    {
      "cell_type": "code",
      "source": [
        "!pip install geemap"
      ],
      "metadata": {
        "colab": {
          "base_uri": "https://localhost:8080/",
          "height": 1000
        },
        "id": "bgpfAEylAMX_",
        "outputId": "5bd1be92-a29c-4f35-fa13-89d5b9b4b2fa"
      },
      "id": "bgpfAEylAMX_",
      "execution_count": null,
      "outputs": [
        {
          "output_type": "stream",
          "name": "stdout",
          "text": [
            "Looking in indexes: https://pypi.org/simple, https://us-python.pkg.dev/colab-wheels/public/simple/\n",
            "Collecting geemap\n",
            "  Downloading geemap-0.16.7-py2.py3-none-any.whl (2.1 MB)\n",
            "\u001b[K     |████████████████████████████████| 2.1 MB 5.1 MB/s \n",
            "\u001b[?25hCollecting ipyevents\n",
            "  Downloading ipyevents-2.0.1-py2.py3-none-any.whl (130 kB)\n",
            "\u001b[K     |████████████████████████████████| 130 kB 32.7 MB/s \n",
            "\u001b[?25hCollecting xyzservices\n",
            "  Downloading xyzservices-2022.6.0-py3-none-any.whl (36 kB)\n",
            "Collecting scooby\n",
            "  Downloading scooby-0.6.0-py3-none-any.whl (14 kB)\n",
            "Collecting ffmpeg-python\n",
            "  Downloading ffmpeg_python-0.2.0-py3-none-any.whl (25 kB)\n",
            "Collecting jupyterlab>=3\n",
            "  Downloading jupyterlab-3.4.5-py3-none-any.whl (8.8 MB)\n",
            "\u001b[K     |████████████████████████████████| 8.8 MB 46.6 MB/s \n",
            "\u001b[?25hCollecting ee-extra>=0.0.10\n",
            "  Downloading ee_extra-0.0.14.tar.gz (198 kB)\n",
            "\u001b[K     |████████████████████████████████| 198 kB 59.4 MB/s \n",
            "\u001b[?25hCollecting colour\n",
            "  Downloading colour-0.1.5-py2.py3-none-any.whl (23 kB)\n",
            "Requirement already satisfied: numpy in /usr/local/lib/python3.7/dist-packages (from geemap) (1.21.6)\n",
            "Collecting whiteboxgui>=0.6.0\n",
            "  Downloading whiteboxgui-0.7.0-py2.py3-none-any.whl (99 kB)\n",
            "\u001b[K     |████████████████████████████████| 99 kB 9.6 MB/s \n",
            "\u001b[?25hCollecting python-box\n",
            "  Downloading python_box-6.0.2-cp37-cp37m-manylinux_2_17_x86_64.manylinux2014_x86_64.whl (3.0 MB)\n",
            "\u001b[K     |████████████████████████████████| 3.0 MB 50.1 MB/s \n",
            "\u001b[?25hRequirement already satisfied: pillow in /usr/local/lib/python3.7/dist-packages (from geemap) (7.1.2)\n",
            "Collecting pyshp>=2.1.3\n",
            "  Downloading pyshp-2.3.1-py2.py3-none-any.whl (46 kB)\n",
            "\u001b[K     |████████████████████████████████| 46 kB 3.3 MB/s \n",
            "\u001b[?25hRequirement already satisfied: matplotlib in /usr/local/lib/python3.7/dist-packages (from geemap) (3.2.2)\n",
            "Collecting ipytree\n",
            "  Downloading ipytree-0.2.2-py2.py3-none-any.whl (1.3 MB)\n",
            "\u001b[K     |████████████████████████████████| 1.3 MB 59.1 MB/s \n",
            "\u001b[?25hCollecting pycrs\n",
            "  Downloading PyCRS-1.0.2.tar.gz (36 kB)\n",
            "Collecting ipyleaflet>=0.17.0\n",
            "  Downloading ipyleaflet-0.17.1-py3-none-any.whl (3.4 MB)\n",
            "\u001b[K     |████████████████████████████████| 3.4 MB 49.2 MB/s \n",
            "\u001b[?25hRequirement already satisfied: gdown in /usr/local/lib/python3.7/dist-packages (from geemap) (4.4.0)\n",
            "Collecting sankee>=0.1.0\n",
            "  Downloading sankee-0.2.0.tar.gz (29 kB)\n",
            "Requirement already satisfied: folium>=0.11.0 in /usr/local/lib/python3.7/dist-packages (from geemap) (0.12.1.post1)\n",
            "Collecting geojson\n",
            "  Downloading geojson-2.5.0-py2.py3-none-any.whl (14 kB)\n",
            "Requirement already satisfied: pandas in /usr/local/lib/python3.7/dist-packages (from geemap) (1.3.5)\n",
            "Collecting bqplot\n",
            "  Downloading bqplot-0.12.36-py2.py3-none-any.whl (1.2 MB)\n",
            "\u001b[K     |████████████████████████████████| 1.2 MB 52.6 MB/s \n",
            "\u001b[?25hCollecting geocoder\n",
            "  Downloading geocoder-1.38.1-py2.py3-none-any.whl (98 kB)\n",
            "\u001b[K     |████████████████████████████████| 98 kB 6.1 MB/s \n",
            "\u001b[?25hCollecting ipyfilechooser>=0.6.0\n",
            "  Downloading ipyfilechooser-0.6.0-py3-none-any.whl (11 kB)\n",
            "Collecting geeadd>=0.5.1\n",
            "  Downloading geeadd-0.5.6-py3-none-any.whl (30 kB)\n",
            "Requirement already satisfied: earthengine-api>=0.1.304 in /usr/local/lib/python3.7/dist-packages (from geemap) (0.1.321)\n",
            "Requirement already satisfied: httplib2shim in /usr/local/lib/python3.7/dist-packages (from earthengine-api>=0.1.304->geemap) (0.0.3)\n",
            "Requirement already satisfied: six in /usr/local/lib/python3.7/dist-packages (from earthengine-api>=0.1.304->geemap) (1.15.0)\n",
            "Requirement already satisfied: httplib2<1dev,>=0.9.2 in /usr/local/lib/python3.7/dist-packages (from earthengine-api>=0.1.304->geemap) (0.17.4)\n",
            "Requirement already satisfied: google-cloud-storage in /usr/local/lib/python3.7/dist-packages (from earthengine-api>=0.1.304->geemap) (1.18.1)\n",
            "Requirement already satisfied: google-auth-httplib2>=0.0.3 in /usr/local/lib/python3.7/dist-packages (from earthengine-api>=0.1.304->geemap) (0.0.4)\n",
            "Requirement already satisfied: google-api-python-client<2,>=1.12.1 in /usr/local/lib/python3.7/dist-packages (from earthengine-api>=0.1.304->geemap) (1.12.11)\n",
            "Requirement already satisfied: future in /usr/local/lib/python3.7/dist-packages (from earthengine-api>=0.1.304->geemap) (0.16.0)\n",
            "Requirement already satisfied: google-auth>=1.4.1 in /usr/local/lib/python3.7/dist-packages (from earthengine-api>=0.1.304->geemap) (1.35.0)\n",
            "Requirement already satisfied: requests in /usr/local/lib/python3.7/dist-packages (from folium>=0.11.0->geemap) (2.23.0)\n",
            "Requirement already satisfied: branca>=0.3.0 in /usr/local/lib/python3.7/dist-packages (from folium>=0.11.0->geemap) (0.5.0)\n",
            "Requirement already satisfied: jinja2>=2.9 in /usr/local/lib/python3.7/dist-packages (from folium>=0.11.0->geemap) (2.11.3)\n",
            "Collecting beautifulsoup4>=4.9.0\n",
            "  Downloading beautifulsoup4-4.11.1-py3-none-any.whl (128 kB)\n",
            "\u001b[K     |████████████████████████████████| 128 kB 58.6 MB/s \n",
            "\u001b[?25hCollecting logzero>=1.5.0\n",
            "  Downloading logzero-1.7.0-py2.py3-none-any.whl (16 kB)\n",
            "Collecting soupsieve>1.2\n",
            "  Downloading soupsieve-2.3.2.post1-py3-none-any.whl (37 kB)\n",
            "Requirement already satisfied: google-api-core<3dev,>=1.21.0 in /usr/local/lib/python3.7/dist-packages (from google-api-python-client<2,>=1.12.1->earthengine-api>=0.1.304->geemap) (1.31.6)\n",
            "Requirement already satisfied: uritemplate<4dev,>=3.0.0 in /usr/local/lib/python3.7/dist-packages (from google-api-python-client<2,>=1.12.1->earthengine-api>=0.1.304->geemap) (3.0.1)\n",
            "Requirement already satisfied: setuptools>=40.3.0 in /usr/local/lib/python3.7/dist-packages (from google-api-core<3dev,>=1.21.0->google-api-python-client<2,>=1.12.1->earthengine-api>=0.1.304->geemap) (57.4.0)\n",
            "Requirement already satisfied: packaging>=14.3 in /usr/local/lib/python3.7/dist-packages (from google-api-core<3dev,>=1.21.0->google-api-python-client<2,>=1.12.1->earthengine-api>=0.1.304->geemap) (21.3)\n",
            "Requirement already satisfied: googleapis-common-protos<2.0dev,>=1.6.0 in /usr/local/lib/python3.7/dist-packages (from google-api-core<3dev,>=1.21.0->google-api-python-client<2,>=1.12.1->earthengine-api>=0.1.304->geemap) (1.56.4)\n",
            "Requirement already satisfied: protobuf<4.0.0dev,>=3.12.0 in /usr/local/lib/python3.7/dist-packages (from google-api-core<3dev,>=1.21.0->google-api-python-client<2,>=1.12.1->earthengine-api>=0.1.304->geemap) (3.17.3)\n",
            "Requirement already satisfied: pytz in /usr/local/lib/python3.7/dist-packages (from google-api-core<3dev,>=1.21.0->google-api-python-client<2,>=1.12.1->earthengine-api>=0.1.304->geemap) (2022.2.1)\n",
            "Requirement already satisfied: pyasn1-modules>=0.2.1 in /usr/local/lib/python3.7/dist-packages (from google-auth>=1.4.1->earthengine-api>=0.1.304->geemap) (0.2.8)\n",
            "Requirement already satisfied: rsa<5,>=3.1.4 in /usr/local/lib/python3.7/dist-packages (from google-auth>=1.4.1->earthengine-api>=0.1.304->geemap) (4.9)\n",
            "Requirement already satisfied: cachetools<5.0,>=2.0.0 in /usr/local/lib/python3.7/dist-packages (from google-auth>=1.4.1->earthengine-api>=0.1.304->geemap) (4.2.4)\n",
            "Requirement already satisfied: ipywidgets in /usr/local/lib/python3.7/dist-packages (from ipyfilechooser>=0.6.0->geemap) (7.7.1)\n",
            "Collecting traittypes<3,>=0.2.1\n",
            "  Downloading traittypes-0.2.1-py2.py3-none-any.whl (8.6 kB)\n",
            "Requirement already satisfied: ipython>=4.0.0 in /usr/local/lib/python3.7/dist-packages (from ipywidgets->ipyfilechooser>=0.6.0->geemap) (7.9.0)\n",
            "Requirement already satisfied: traitlets>=4.3.1 in /usr/local/lib/python3.7/dist-packages (from ipywidgets->ipyfilechooser>=0.6.0->geemap) (5.1.1)\n",
            "Requirement already satisfied: ipython-genutils~=0.2.0 in /usr/local/lib/python3.7/dist-packages (from ipywidgets->ipyfilechooser>=0.6.0->geemap) (0.2.0)\n",
            "Requirement already satisfied: widgetsnbextension~=3.6.0 in /usr/local/lib/python3.7/dist-packages (from ipywidgets->ipyfilechooser>=0.6.0->geemap) (3.6.1)\n",
            "Requirement already satisfied: jupyterlab-widgets>=1.0.0 in /usr/local/lib/python3.7/dist-packages (from ipywidgets->ipyfilechooser>=0.6.0->geemap) (3.0.2)\n",
            "Requirement already satisfied: ipykernel>=4.5.1 in /usr/local/lib/python3.7/dist-packages (from ipywidgets->ipyfilechooser>=0.6.0->geemap) (5.3.4)\n",
            "Requirement already satisfied: tornado>=4.2 in /usr/local/lib/python3.7/dist-packages (from ipykernel>=4.5.1->ipywidgets->ipyfilechooser>=0.6.0->geemap) (5.1.1)\n",
            "Requirement already satisfied: jupyter-client in /usr/local/lib/python3.7/dist-packages (from ipykernel>=4.5.1->ipywidgets->ipyfilechooser>=0.6.0->geemap) (6.1.12)\n",
            "Requirement already satisfied: pickleshare in /usr/local/lib/python3.7/dist-packages (from ipython>=4.0.0->ipywidgets->ipyfilechooser>=0.6.0->geemap) (0.7.5)\n",
            "Requirement already satisfied: backcall in /usr/local/lib/python3.7/dist-packages (from ipython>=4.0.0->ipywidgets->ipyfilechooser>=0.6.0->geemap) (0.2.0)\n",
            "Requirement already satisfied: prompt-toolkit<2.1.0,>=2.0.0 in /usr/local/lib/python3.7/dist-packages (from ipython>=4.0.0->ipywidgets->ipyfilechooser>=0.6.0->geemap) (2.0.10)\n",
            "Collecting jedi>=0.10\n",
            "  Downloading jedi-0.18.1-py2.py3-none-any.whl (1.6 MB)\n",
            "\u001b[K     |████████████████████████████████| 1.6 MB 56.1 MB/s \n",
            "\u001b[?25hRequirement already satisfied: pexpect in /usr/local/lib/python3.7/dist-packages (from ipython>=4.0.0->ipywidgets->ipyfilechooser>=0.6.0->geemap) (4.8.0)\n",
            "Requirement already satisfied: pygments in /usr/local/lib/python3.7/dist-packages (from ipython>=4.0.0->ipywidgets->ipyfilechooser>=0.6.0->geemap) (2.6.1)\n",
            "Requirement already satisfied: decorator in /usr/local/lib/python3.7/dist-packages (from ipython>=4.0.0->ipywidgets->ipyfilechooser>=0.6.0->geemap) (4.4.2)\n",
            "Requirement already satisfied: parso<0.9.0,>=0.8.0 in /usr/local/lib/python3.7/dist-packages (from jedi>=0.10->ipython>=4.0.0->ipywidgets->ipyfilechooser>=0.6.0->geemap) (0.8.3)\n",
            "Requirement already satisfied: MarkupSafe>=0.23 in /usr/local/lib/python3.7/dist-packages (from jinja2>=2.9->folium>=0.11.0->geemap) (2.0.1)\n",
            "Collecting tornado>=4.2\n",
            "  Downloading tornado-6.2-cp37-abi3-manylinux_2_5_x86_64.manylinux1_x86_64.manylinux_2_17_x86_64.manylinux2014_x86_64.whl (423 kB)\n",
            "\u001b[K     |████████████████████████████████| 423 kB 65.3 MB/s \n",
            "\u001b[?25hRequirement already satisfied: jupyter-core in /usr/local/lib/python3.7/dist-packages (from jupyterlab>=3->geemap) (4.11.1)\n",
            "Collecting nbclassic\n",
            "  Downloading nbclassic-0.4.3-py3-none-any.whl (9.7 MB)\n",
            "\u001b[K     |████████████████████████████████| 9.7 MB 44.6 MB/s \n",
            "\u001b[?25hRequirement already satisfied: notebook<7 in /usr/local/lib/python3.7/dist-packages (from jupyterlab>=3->geemap) (5.3.1)\n",
            "Collecting jupyterlab-server~=2.10\n",
            "  Downloading jupyterlab_server-2.15.1-py3-none-any.whl (54 kB)\n",
            "\u001b[K     |████████████████████████████████| 54 kB 2.7 MB/s \n",
            "\u001b[?25hCollecting jupyter-server~=1.16\n",
            "  Downloading jupyter_server-1.18.1-py3-none-any.whl (344 kB)\n",
            "\u001b[K     |████████████████████████████████| 344 kB 67.4 MB/s \n",
            "\u001b[?25hRequirement already satisfied: nbformat>=5.2.0 in /usr/local/lib/python3.7/dist-packages (from jupyter-server~=1.16->jupyterlab>=3->geemap) (5.4.0)\n",
            "Requirement already satisfied: pyzmq>=17 in /usr/local/lib/python3.7/dist-packages (from jupyter-server~=1.16->jupyterlab>=3->geemap) (23.2.1)\n",
            "Collecting nbconvert>=6.4.4\n",
            "  Downloading nbconvert-7.0.0-py3-none-any.whl (271 kB)\n",
            "\u001b[K     |████████████████████████████████| 271 kB 69.8 MB/s \n",
            "\u001b[?25hRequirement already satisfied: Send2Trash in /usr/local/lib/python3.7/dist-packages (from jupyter-server~=1.16->jupyterlab>=3->geemap) (1.8.0)\n",
            "Collecting prometheus-client\n",
            "  Downloading prometheus_client-0.14.1-py3-none-any.whl (59 kB)\n",
            "\u001b[K     |████████████████████████████████| 59 kB 6.0 MB/s \n",
            "\u001b[?25hRequirement already satisfied: terminado>=0.8.3 in /usr/local/lib/python3.7/dist-packages (from jupyter-server~=1.16->jupyterlab>=3->geemap) (0.13.3)\n",
            "Collecting websocket-client\n",
            "  Downloading websocket_client-1.4.0-py3-none-any.whl (54 kB)\n",
            "\u001b[K     |████████████████████████████████| 54 kB 3.0 MB/s \n",
            "\u001b[?25hCollecting argon2-cffi\n",
            "  Downloading argon2_cffi-21.3.0-py3-none-any.whl (14 kB)\n",
            "Collecting anyio<4,>=3.1.0\n",
            "  Downloading anyio-3.6.1-py3-none-any.whl (80 kB)\n",
            "\u001b[K     |████████████████████████████████| 80 kB 9.5 MB/s \n",
            "\u001b[?25hRequirement already satisfied: typing-extensions in /usr/local/lib/python3.7/dist-packages (from anyio<4,>=3.1.0->jupyter-server~=1.16->jupyterlab>=3->geemap) (4.1.1)\n",
            "Collecting sniffio>=1.1\n",
            "  Downloading sniffio-1.3.0-py3-none-any.whl (10 kB)\n",
            "Requirement already satisfied: idna>=2.8 in /usr/local/lib/python3.7/dist-packages (from anyio<4,>=3.1.0->jupyter-server~=1.16->jupyterlab>=3->geemap) (2.10)\n",
            "Requirement already satisfied: python-dateutil>=2.1 in /usr/local/lib/python3.7/dist-packages (from jupyter-client->ipykernel>=4.5.1->ipywidgets->ipyfilechooser>=0.6.0->geemap) (2.8.2)\n",
            "Requirement already satisfied: jsonschema>=3.0.1 in /usr/local/lib/python3.7/dist-packages (from jupyterlab-server~=2.10->jupyterlab>=3->geemap) (4.3.3)\n",
            "Requirement already satisfied: importlib-metadata>=3.6 in /usr/local/lib/python3.7/dist-packages (from jupyterlab-server~=2.10->jupyterlab>=3->geemap) (4.12.0)\n",
            "Requirement already satisfied: babel in /usr/local/lib/python3.7/dist-packages (from jupyterlab-server~=2.10->jupyterlab>=3->geemap) (2.10.3)\n",
            "Collecting jinja2>=2.9\n",
            "  Downloading Jinja2-3.1.2-py3-none-any.whl (133 kB)\n",
            "\u001b[K     |████████████████████████████████| 133 kB 67.5 MB/s \n",
            "\u001b[?25hCollecting json5\n",
            "  Downloading json5-0.9.10-py2.py3-none-any.whl (19 kB)\n",
            "Requirement already satisfied: zipp>=0.5 in /usr/local/lib/python3.7/dist-packages (from importlib-metadata>=3.6->jupyterlab-server~=2.10->jupyterlab>=3->geemap) (3.8.1)\n",
            "Requirement already satisfied: attrs>=17.4.0 in /usr/local/lib/python3.7/dist-packages (from jsonschema>=3.0.1->jupyterlab-server~=2.10->jupyterlab>=3->geemap) (22.1.0)\n",
            "Requirement already satisfied: pyrsistent!=0.17.0,!=0.17.1,!=0.17.2,>=0.14.0 in /usr/local/lib/python3.7/dist-packages (from jsonschema>=3.0.1->jupyterlab-server~=2.10->jupyterlab>=3->geemap) (0.18.1)\n",
            "Requirement already satisfied: importlib-resources>=1.4.0 in /usr/local/lib/python3.7/dist-packages (from jsonschema>=3.0.1->jupyterlab-server~=2.10->jupyterlab>=3->geemap) (5.9.0)\n",
            "Collecting jupyterlab-pygments\n",
            "  Downloading jupyterlab_pygments-0.2.2-py2.py3-none-any.whl (21 kB)\n",
            "Collecting tinycss2\n",
            "  Downloading tinycss2-1.1.1-py3-none-any.whl (21 kB)\n",
            "Requirement already satisfied: pandocfilters>=1.4.1 in /usr/local/lib/python3.7/dist-packages (from nbconvert>=6.4.4->jupyter-server~=1.16->jupyterlab>=3->geemap) (1.5.0)\n",
            "Requirement already satisfied: defusedxml in /usr/local/lib/python3.7/dist-packages (from nbconvert>=6.4.4->jupyter-server~=1.16->jupyterlab>=3->geemap) (0.7.1)\n",
            "Requirement already satisfied: bleach in /usr/local/lib/python3.7/dist-packages (from nbconvert>=6.4.4->jupyter-server~=1.16->jupyterlab>=3->geemap) (5.0.1)\n",
            "Collecting nbclient>=0.5.0\n",
            "  Downloading nbclient-0.6.7-py3-none-any.whl (71 kB)\n",
            "\u001b[K     |████████████████████████████████| 71 kB 185 kB/s \n",
            "\u001b[?25hCollecting mistune<3,>=2.0.3\n",
            "  Downloading mistune-2.0.4-py2.py3-none-any.whl (24 kB)\n",
            "Requirement already satisfied: lxml in /usr/local/lib/python3.7/dist-packages (from nbconvert>=6.4.4->jupyter-server~=1.16->jupyterlab>=3->geemap) (4.9.1)\n",
            "Collecting nest-asyncio\n",
            "  Downloading nest_asyncio-1.5.5-py3-none-any.whl (5.2 kB)\n",
            "Collecting traitlets>=4.3.1\n",
            "  Downloading traitlets-5.3.0-py3-none-any.whl (106 kB)\n",
            "\u001b[K     |████████████████████████████████| 106 kB 57.6 MB/s \n",
            "\u001b[?25hRequirement already satisfied: fastjsonschema in /usr/local/lib/python3.7/dist-packages (from nbformat>=5.2.0->jupyter-server~=1.16->jupyterlab>=3->geemap) (2.16.1)\n",
            "Requirement already satisfied: pyparsing!=3.0.5,>=2.0.2 in /usr/local/lib/python3.7/dist-packages (from packaging>=14.3->google-api-core<3dev,>=1.21.0->google-api-python-client<2,>=1.12.1->earthengine-api>=0.1.304->geemap) (3.0.9)\n",
            "Requirement already satisfied: wcwidth in /usr/local/lib/python3.7/dist-packages (from prompt-toolkit<2.1.0,>=2.0.0->ipython>=4.0.0->ipywidgets->ipyfilechooser>=0.6.0->geemap) (0.2.5)\n",
            "Requirement already satisfied: pyasn1<0.5.0,>=0.4.6 in /usr/local/lib/python3.7/dist-packages (from pyasn1-modules>=0.2.1->google-auth>=1.4.1->earthengine-api>=0.1.304->geemap) (0.4.8)\n",
            "Requirement already satisfied: chardet<4,>=3.0.2 in /usr/local/lib/python3.7/dist-packages (from requests->folium>=0.11.0->geemap) (3.0.4)\n",
            "Requirement already satisfied: urllib3!=1.25.0,!=1.25.1,<1.26,>=1.21.1 in /usr/local/lib/python3.7/dist-packages (from requests->folium>=0.11.0->geemap) (1.24.3)\n",
            "Requirement already satisfied: certifi>=2017.4.17 in /usr/local/lib/python3.7/dist-packages (from requests->folium>=0.11.0->geemap) (2022.6.15)\n",
            "Requirement already satisfied: plotly>=5.2.2 in /usr/local/lib/python3.7/dist-packages (from sankee>=0.1.0->geemap) (5.5.0)\n",
            "Requirement already satisfied: tenacity>=6.2.0 in /usr/local/lib/python3.7/dist-packages (from plotly>=5.2.2->sankee>=0.1.0->geemap) (8.0.1)\n",
            "Requirement already satisfied: ptyprocess in /usr/local/lib/python3.7/dist-packages (from terminado>=0.8.3->jupyter-server~=1.16->jupyterlab>=3->geemap) (0.7.0)\n",
            "Collecting whitebox\n",
            "  Downloading whitebox-2.1.4-py2.py3-none-any.whl (75 kB)\n",
            "\u001b[K     |████████████████████████████████| 75 kB 4.9 MB/s \n",
            "\u001b[?25hCollecting argon2-cffi-bindings\n",
            "  Downloading argon2_cffi_bindings-21.2.0-cp36-abi3-manylinux_2_17_x86_64.manylinux2014_x86_64.whl (86 kB)\n",
            "\u001b[K     |████████████████████████████████| 86 kB 4.8 MB/s \n",
            "\u001b[?25hRequirement already satisfied: cffi>=1.0.1 in /usr/local/lib/python3.7/dist-packages (from argon2-cffi-bindings->argon2-cffi->jupyter-server~=1.16->jupyterlab>=3->geemap) (1.15.1)\n",
            "Requirement already satisfied: pycparser in /usr/local/lib/python3.7/dist-packages (from cffi>=1.0.1->argon2-cffi-bindings->argon2-cffi->jupyter-server~=1.16->jupyterlab>=3->geemap) (2.21)\n",
            "Requirement already satisfied: webencodings in /usr/local/lib/python3.7/dist-packages (from bleach->nbconvert>=6.4.4->jupyter-server~=1.16->jupyterlab>=3->geemap) (0.5.1)\n",
            "Requirement already satisfied: filelock in /usr/local/lib/python3.7/dist-packages (from gdown->geemap) (3.8.0)\n",
            "Requirement already satisfied: tqdm in /usr/local/lib/python3.7/dist-packages (from gdown->geemap) (4.64.0)\n",
            "Requirement already satisfied: click in /usr/local/lib/python3.7/dist-packages (from geocoder->geemap) (7.1.2)\n",
            "Collecting ratelim\n",
            "  Downloading ratelim-0.1.6-py2.py3-none-any.whl (4.0 kB)\n",
            "Requirement already satisfied: google-resumable-media<0.5.0dev,>=0.3.1 in /usr/local/lib/python3.7/dist-packages (from google-cloud-storage->earthengine-api>=0.1.304->geemap) (0.4.1)\n",
            "Requirement already satisfied: google-cloud-core<2.0dev,>=1.0.0 in /usr/local/lib/python3.7/dist-packages (from google-cloud-storage->earthengine-api>=0.1.304->geemap) (1.0.3)\n",
            "Requirement already satisfied: cycler>=0.10 in /usr/local/lib/python3.7/dist-packages (from matplotlib->geemap) (0.11.0)\n",
            "Requirement already satisfied: kiwisolver>=1.0.1 in /usr/local/lib/python3.7/dist-packages (from matplotlib->geemap) (1.4.4)\n",
            "Collecting notebook-shim>=0.1.0\n",
            "  Downloading notebook_shim-0.1.0-py3-none-any.whl (13 kB)\n",
            "Requirement already satisfied: PySocks!=1.5.7,>=1.5.6 in /usr/local/lib/python3.7/dist-packages (from requests->folium>=0.11.0->geemap) (1.7.1)\n",
            "Building wheels for collected packages: ee-extra, sankee, pycrs\n",
            "  Building wheel for ee-extra (setup.py) ... \u001b[?25l\u001b[?25hdone\n",
            "  Created wheel for ee-extra: filename=ee_extra-0.0.14-py3-none-any.whl size=209114 sha256=4ae351a0c3f672c1a513207f8022334a0316e40b3ceee4256395f8e28e1fd7a7\n",
            "  Stored in directory: /root/.cache/pip/wheels/50/1f/56/c638a525bcb6972c82e422747430d756edea7d57b539229bb3\n",
            "  Building wheel for sankee (setup.py) ... \u001b[?25l\u001b[?25hdone\n",
            "  Created wheel for sankee: filename=sankee-0.2.0-py3-none-any.whl size=28745 sha256=326179faf20d54c4855e7f0c5ce0dc8a0c4b3cd01dc764921b8f4a9635130fb6\n",
            "  Stored in directory: /root/.cache/pip/wheels/36/b4/ac/84c3f06e5c44d3fe5029713232438862881e6e1f26657d5fd8\n",
            "  Building wheel for pycrs (setup.py) ... \u001b[?25l\u001b[?25hdone\n",
            "  Created wheel for pycrs: filename=PyCRS-1.0.2-py3-none-any.whl size=32704 sha256=4374f2e2990a54c6022c09dcc1a8eb3cd0bdc7b7fdf80c4582d1472def7d2c71\n",
            "  Stored in directory: /root/.cache/pip/wheels/3e/ce/32/1ec0aba6b9770681a423e82f0274c57d09ad2c20c2864901f9\n",
            "Successfully built ee-extra sankee pycrs\n",
            "Installing collected packages: traitlets, tornado, soupsieve, nest-asyncio, jedi, tinycss2, nbclient, mistune, jupyterlab-pygments, jinja2, beautifulsoup4, sniffio, nbconvert, argon2-cffi-bindings, websocket-client, prometheus-client, argon2-cffi, anyio, jupyter-server, notebook-shim, json5, xyzservices, whitebox, traittypes, ratelim, nbclassic, logzero, jupyterlab-server, ipytree, ipyfilechooser, whiteboxgui, scooby, sankee, python-box, pyshp, pycrs, jupyterlab, ipyleaflet, ipyevents, geojson, geocoder, geeadd, ffmpeg-python, ee-extra, colour, bqplot, geemap\n",
            "  Attempting uninstall: traitlets\n",
            "    Found existing installation: traitlets 5.1.1\n",
            "    Uninstalling traitlets-5.1.1:\n",
            "      Successfully uninstalled traitlets-5.1.1\n",
            "  Attempting uninstall: tornado\n",
            "    Found existing installation: tornado 5.1.1\n",
            "    Uninstalling tornado-5.1.1:\n",
            "      Successfully uninstalled tornado-5.1.1\n",
            "  Attempting uninstall: mistune\n",
            "    Found existing installation: mistune 0.8.4\n",
            "    Uninstalling mistune-0.8.4:\n",
            "      Successfully uninstalled mistune-0.8.4\n",
            "  Attempting uninstall: jinja2\n",
            "    Found existing installation: Jinja2 2.11.3\n",
            "    Uninstalling Jinja2-2.11.3:\n",
            "      Successfully uninstalled Jinja2-2.11.3\n",
            "  Attempting uninstall: beautifulsoup4\n",
            "    Found existing installation: beautifulsoup4 4.6.3\n",
            "    Uninstalling beautifulsoup4-4.6.3:\n",
            "      Successfully uninstalled beautifulsoup4-4.6.3\n",
            "  Attempting uninstall: nbconvert\n",
            "    Found existing installation: nbconvert 5.6.1\n",
            "    Uninstalling nbconvert-5.6.1:\n",
            "      Successfully uninstalled nbconvert-5.6.1\n",
            "\u001b[31mERROR: pip's dependency resolver does not currently take into account all the packages that are installed. This behaviour is the source of the following dependency conflicts.\n",
            "google-colab 1.0.0 requires tornado~=5.1.0, but you have tornado 6.2 which is incompatible.\n",
            "flask 1.1.4 requires Jinja2<3.0,>=2.10.1, but you have jinja2 3.1.2 which is incompatible.\u001b[0m\n",
            "Successfully installed anyio-3.6.1 argon2-cffi-21.3.0 argon2-cffi-bindings-21.2.0 beautifulsoup4-4.11.1 bqplot-0.12.36 colour-0.1.5 ee-extra-0.0.14 ffmpeg-python-0.2.0 geeadd-0.5.6 geemap-0.16.7 geocoder-1.38.1 geojson-2.5.0 ipyevents-2.0.1 ipyfilechooser-0.6.0 ipyleaflet-0.17.1 ipytree-0.2.2 jedi-0.18.1 jinja2-3.1.2 json5-0.9.10 jupyter-server-1.18.1 jupyterlab-3.4.5 jupyterlab-pygments-0.2.2 jupyterlab-server-2.15.1 logzero-1.7.0 mistune-2.0.4 nbclassic-0.4.3 nbclient-0.6.7 nbconvert-7.0.0 nest-asyncio-1.5.5 notebook-shim-0.1.0 prometheus-client-0.14.1 pycrs-1.0.2 pyshp-2.3.1 python-box-6.0.2 ratelim-0.1.6 sankee-0.2.0 scooby-0.6.0 sniffio-1.3.0 soupsieve-2.3.2.post1 tinycss2-1.1.1 tornado-6.2 traitlets-5.3.0 traittypes-0.2.1 websocket-client-1.4.0 whitebox-2.1.4 whiteboxgui-0.7.0 xyzservices-2022.6.0\n"
          ]
        },
        {
          "output_type": "display_data",
          "data": {
            "application/vnd.colab-display-data+json": {
              "pip_warning": {
                "packages": [
                  "tornado"
                ]
              }
            }
          },
          "metadata": {}
        }
      ]
    },
    {
      "cell_type": "code",
      "execution_count": null,
      "id": "f736f52b",
      "metadata": {
        "id": "f736f52b"
      },
      "outputs": [],
      "source": [
        "import os\n",
        "import geemap\n",
        "import ee"
      ]
    },
    {
      "cell_type": "code",
      "execution_count": null,
      "id": "85893b4d",
      "metadata": {
        "colab": {
          "referenced_widgets": [
            "9622efa6ba144b52a6d6d59dd7e68abb"
          ]
        },
        "id": "85893b4d",
        "outputId": "8b9c8d17-ce1d-44b6-ccfe-6a890420bcdc"
      },
      "outputs": [
        {
          "data": {
            "application/vnd.jupyter.widget-view+json": {
              "model_id": "9622efa6ba144b52a6d6d59dd7e68abb",
              "version_major": 2,
              "version_minor": 0
            },
            "text/plain": [
              "Map(center=[40, -100], controls=(WidgetControl(options=['position', 'transparent_bg'], widget=HBox(children=(T…"
            ]
          },
          "execution_count": 2,
          "metadata": {},
          "output_type": "execute_result"
        }
      ],
      "source": [
        "map = geemap.Map(center=(40, -100), zoom=4)\n",
        "map"
      ]
    },
    {
      "cell_type": "code",
      "execution_count": null,
      "id": "38bd2b79",
      "metadata": {
        "colab": {
          "referenced_widgets": [
            "3627086da94c4db7ad5027b573b1fe63"
          ]
        },
        "id": "38bd2b79",
        "outputId": "db4f2a96-b0a8-4644-fcfb-cb54887b2074"
      },
      "outputs": [
        {
          "data": {
            "application/vnd.jupyter.widget-view+json": {
              "model_id": "3627086da94c4db7ad5027b573b1fe63",
              "version_major": 2,
              "version_minor": 0
            },
            "text/plain": [
              "Map(center=[40, -100], controls=(WidgetControl(options=['position', 'transparent_bg'], widget=HBox(children=(T…"
            ]
          },
          "execution_count": 3,
          "metadata": {},
          "output_type": "execute_result"
        }
      ],
      "source": [
        "map = geemap.Map(center =(40, -100), zoom= 4)\n",
        "map.basemap()\n",
        "map"
      ]
    },
    {
      "cell_type": "code",
      "execution_count": null,
      "id": "992161c1",
      "metadata": {
        "id": "992161c1"
      },
      "outputs": [],
      "source": [
        "map = geemap.Map(center=(40, -100), zoom=4)\n",
        "map"
      ]
    },
    {
      "cell_type": "code",
      "execution_count": null,
      "id": "aef252e2",
      "metadata": {
        "id": "aef252e2"
      },
      "outputs": [],
      "source": [
        "collection = ee.ImageCollection('LANDSAT/LC09/C02/T1_L2')\n",
        "print(collection.size().getInfo())"
      ]
    },
    {
      "cell_type": "code",
      "execution_count": null,
      "id": "aa9f285c",
      "metadata": {
        "id": "aa9f285c"
      },
      "outputs": [],
      "source": [
        "collection = ee.ImageCollection('LANDSAT/LC08/C02/T1_L2')\n",
        "print(collection.size().getInfo())"
      ]
    },
    {
      "cell_type": "code",
      "execution_count": null,
      "id": "03fbabeb",
      "metadata": {
        "id": "03fbabeb"
      },
      "outputs": [],
      "source": [
        "def apply_scale_factors(image):\n",
        "   opticalBands = image.select('SR_B.*').multiply(0.0000275).add(-0.2)\n",
        "   thermalBands = image.select('ST_B.*').multiply(0.00341802).add(149.0)\n",
        "   return image.addBands(opticalBands, None, True).addBands(thermalBands, None, True)\n",
        "\n"
      ]
    },
    {
      "cell_type": "code",
      "execution_count": null,
      "id": "18055bcb",
      "metadata": {
        "id": "18055bcb"
      },
      "outputs": [],
      "source": [
        "median =collection.median()"
      ]
    },
    {
      "cell_type": "code",
      "execution_count": null,
      "id": "b63b099e",
      "metadata": {
        "id": "b63b099e"
      },
      "outputs": [],
      "source": [
        "dataset = apply_scale_factors(median)"
      ]
    },
    {
      "cell_type": "code",
      "execution_count": null,
      "id": "bb3bd7c5",
      "metadata": {
        "id": "bb3bd7c5"
      },
      "outputs": [],
      "source": [
        "vis_natural = {\n",
        "   'bands': ['SR_B4', 'SR_B3', 'SR_B2'],\n",
        "   'min': 0.0,\n",
        "   'max': 0.3,\n",
        "}\n",
        "\n",
        "vis_nir = {\n",
        "   'bands': ['SR_B5', 'SR_B4', 'SR_B3'],\n",
        "   'min': 0.0,\n",
        "   'max': 0.3,\n",
        "}"
      ]
    },
    {
      "cell_type": "code",
      "execution_count": null,
      "id": "ce01be27",
      "metadata": {
        "id": "ce01be27"
      },
      "outputs": [],
      "source": [
        "map.addLayer(dataset, vis_natural, 'True color (432)')"
      ]
    },
    {
      "cell_type": "code",
      "execution_count": null,
      "id": "b5b73d5d",
      "metadata": {
        "id": "b5b73d5d"
      },
      "outputs": [],
      "source": [
        "vis_params = [\n",
        "   {'bands': ['SR_B4', 'SR_B3', 'SR_B2'], 'min': 0, 'max': 0.3},\n",
        "   {'bands': ['SR_B5', 'SR_B4', 'SR_B3'], 'min': 0, 'max': 0.3},\n",
        "   {'bands': ['SR_B7', 'SR_B6', 'SR_B4'], 'min': 0, 'max': 0.3},\n",
        "   {'bands': ['SR_B6', 'SR_B5', 'SR_B2'], 'min': 0, 'max': 0.3},\n",
        "]"
      ]
    },
    {
      "cell_type": "code",
      "execution_count": null,
      "id": "783f9d13",
      "metadata": {
        "id": "783f9d13"
      },
      "outputs": [],
      "source": [
        "labels = [\n",
        "   'Natural Color (4, 3, 2)',\n",
        "   'Color Infrared (5, 4, 3)',\n",
        "   'Short-Wave Infrared (7, 6 4)',\n",
        "   'Agriculture (6, 5, 2)',\n",
        "]\n",
        "\n"
      ]
    },
    {
      "cell_type": "markdown",
      "id": "35195329",
      "metadata": {
        "id": "35195329"
      },
      "source": [
        "This might take a few minutes..."
      ]
    },
    {
      "cell_type": "code",
      "execution_count": null,
      "id": "6f038082",
      "metadata": {
        "id": "6f038082"
      },
      "outputs": [],
      "source": [
        "geemap.linked_maps(\n",
        "   rows=2,\n",
        "   cols=2,\n",
        "   height=\"400px\",\n",
        "   center=[-3.4653, -62.2159],\n",
        "   zoom=4,\n",
        "   ee_objects=[dataset],\n",
        "   vis_params=vis_params,\n",
        "   labels=labels,\n",
        "   label_position=\"topright\",\n",
        ")"
      ]
    },
    {
      "cell_type": "code",
      "execution_count": null,
      "id": "ebe0e12c",
      "metadata": {
        "id": "ebe0e12c"
      },
      "outputs": [],
      "source": [
        "map = geemap.Map()  \n",
        "map"
      ]
    },
    {
      "cell_type": "code",
      "execution_count": null,
      "id": "dce23795",
      "metadata": {
        "id": "dce23795"
      },
      "outputs": [],
      "source": [
        "import geemap\n",
        "\n",
        "Map = geemap.Map()\n",
        "\n",
        "# Import the NLCD collection.\n",
        "dataset = ee.ImageCollection('USGS/NLCD_RELEASES/2019_REL/NLCD')\n",
        "\n",
        "# The collection contains images for multiple years and regions in the USA.\n",
        "print('Products:', dataset.aggregate_array('system:index'))\n",
        "\n",
        "# Filter the collection to the 2016 product.\n",
        "nlcd2016 = dataset.filter(ee.Filter.eq('system:index', '2016')).first()\n",
        "\n",
        "# Each product has multiple bands for describing aspects of land cover.\n",
        "print('Bands:', nlcd2016.bandNames())\n",
        "\n",
        "# Select the land cover band.\n",
        "landcover = nlcd2016.select('landcover')\n",
        "\n",
        "# Display land cover on the map.\n",
        "Map.setCenter(-95, 38, 5)\n",
        "Map.addLayer(landcover, None, 'Landcover')\n",
        "Map"
      ]
    },
    {
      "cell_type": "code",
      "execution_count": null,
      "id": "281775f5",
      "metadata": {
        "id": "281775f5"
      },
      "outputs": [],
      "source": [
        "dataset_xed = ee.ImageCollection('USGS/NLCD_RELEASES/2016_REL')\n",
        "Map.addLayer(dataset_xed, {}, \"USGS/NLCD_RELEASES/2016_REL\")"
      ]
    },
    {
      "cell_type": "code",
      "execution_count": null,
      "id": "1b009a7f",
      "metadata": {
        "id": "1b009a7f"
      },
      "outputs": [],
      "source": [
        "dataset_hpn = ee.ImageCollection('USGS/NLCD_RELEASES/2016_REL')\n",
        "Map.addLayer(dataset_hpn, {}, \"USGS/NLCD_RELEASES/2016_REL\")"
      ]
    },
    {
      "cell_type": "code",
      "execution_count": null,
      "id": "730572f5",
      "metadata": {
        "id": "730572f5"
      },
      "outputs": [],
      "source": [
        "legends = geemap.builtin_legends\n",
        "for legend in legends:\n",
        "    print(legend)\n",
        "\n"
      ]
    },
    {
      "cell_type": "code",
      "execution_count": null,
      "id": "c740adba",
      "metadata": {
        "id": "c740adba"
      },
      "outputs": [],
      "source": [
        "Map = geemap.Map()\n",
        "\n",
        "legend_dict = {\n",
        "    '11 Open Water': '466b9f',\n",
        "    '12 Perennial Ice/Snow': 'd1def8',\n",
        "    '21 Developed, Open Space': 'dec5c5',\n",
        "    '22 Developed, Low Intensity': 'd99282',\n",
        "    '23 Developed, Medium Intensity': 'eb0000',\n",
        "    '24 Developed High Intensity': 'ab0000',\n",
        "    '31 Barren Land (Rock/Sand/Clay)': 'b3ac9f',\n",
        "    '41 Deciduous Forest': '68ab5f',\n",
        "    '42 Evergreen Forest': '1c5f2c',\n",
        "    '43 Mixed Forest': 'b5c58f',\n",
        "    '51 Dwarf Scrub': 'af963c',\n",
        "    '52 Shrub/Scrub': 'ccb879',\n",
        "    '71 Grassland/Herbaceous': 'dfdfc2',\n",
        "    '72 Sedge/Herbaceous': 'd1d182',\n",
        "    '73 Lichens': 'a3cc51',\n",
        "    '74 Moss': '82ba9e',\n",
        "    '81 Pasture/Hay': 'dcd939',\n",
        "    '82 Cultivated Crops': 'ab6c28',\n",
        "    '90 Woody Wetlands': 'b8d9eb',\n",
        "    '95 Emergent Herbaceous Wetlands': '6c9fb8',\n",
        "}\n",
        "\n",
        "landcover = ee.Image('USGS/NLCD/NLCD2016').select('landcover')\n",
        "Map.addLayer(landcover, {}, 'NLCD Land Cover')\n",
        "\n",
        "Map.add_legend(legend_title=\"NLCD Land Cover Classification\", legend_dict=legend_dict)\n",
        "Map"
      ]
    },
    {
      "cell_type": "code",
      "execution_count": null,
      "id": "fd143e87",
      "metadata": {
        "id": "fd143e87"
      },
      "outputs": [],
      "source": [
        "Map = geemap.Map()\n",
        "Map.add_basemap('HYBRID')\n",
        "landcover = ee.Image('USGS/NLCD_RELEASES/2019_REL/NLCD/2019').select('landcover')\n",
        "Map.addLayer(landcover, {}, 'NLCD Land Cover')\n",
        "Map.add_legend(builtin_legend='NLCD')\n",
        "Map"
      ]
    },
    {
      "cell_type": "code",
      "source": [
        "pip list"
      ],
      "metadata": {
        "colab": {
          "base_uri": "https://localhost:8080/"
        },
        "id": "lFvgLWMD-Q3u",
        "outputId": "804dcbf0-0d5f-4bf8-80e4-91ca1e41aeca"
      },
      "id": "lFvgLWMD-Q3u",
      "execution_count": 1,
      "outputs": [
        {
          "output_type": "stream",
          "name": "stdout",
          "text": [
            "Package                       Version\n",
            "----------------------------- ----------------------------\n",
            "absl-py                       1.2.0\n",
            "aeppl                         0.0.33\n",
            "aesara                        2.7.9\n",
            "aiohttp                       3.8.1\n",
            "aiosignal                     1.2.0\n",
            "alabaster                     0.7.12\n",
            "albumentations                1.2.1\n",
            "altair                        4.2.0\n",
            "appdirs                       1.4.4\n",
            "arviz                         0.12.1\n",
            "astor                         0.8.1\n",
            "astropy                       4.3.1\n",
            "astunparse                    1.6.3\n",
            "async-timeout                 4.0.2\n",
            "asynctest                     0.13.0\n",
            "atari-py                      0.2.9\n",
            "atomicwrites                  1.4.1\n",
            "attrs                         22.1.0\n",
            "audioread                     3.0.0\n",
            "autograd                      1.4\n",
            "Babel                         2.10.3\n",
            "backcall                      0.2.0\n",
            "beautifulsoup4                4.6.3\n",
            "bleach                        5.0.1\n",
            "blis                          0.7.8\n",
            "bokeh                         2.3.3\n",
            "branca                        0.5.0\n",
            "bs4                           0.0.1\n",
            "CacheControl                  0.12.11\n",
            "cached-property               1.5.2\n",
            "cachetools                    4.2.4\n",
            "catalogue                     2.0.8\n",
            "certifi                       2022.6.15\n",
            "cffi                          1.15.1\n",
            "cftime                        1.6.1\n",
            "chardet                       3.0.4\n",
            "charset-normalizer            2.1.1\n",
            "click                         7.1.2\n",
            "clikit                        0.6.2\n",
            "cloudpickle                   1.5.0\n",
            "cmake                         3.22.6\n",
            "cmdstanpy                     1.0.7\n",
            "colorcet                      3.0.0\n",
            "colorlover                    0.3.0\n",
            "community                     1.0.0b1\n",
            "cons                          0.4.5\n",
            "contextlib2                   0.5.5\n",
            "convertdate                   2.4.0\n",
            "crashtest                     0.3.1\n",
            "crcmod                        1.7\n",
            "cufflinks                     0.17.3\n",
            "cvxopt                        1.3.0\n",
            "cvxpy                         1.2.1\n",
            "cycler                        0.11.0\n",
            "cymem                         2.0.6\n",
            "Cython                        0.29.32\n",
            "daft                          0.0.4\n",
            "dask                          2022.2.0\n",
            "datascience                   0.17.5\n",
            "debugpy                       1.0.0\n",
            "decorator                     4.4.2\n",
            "defusedxml                    0.7.1\n",
            "descartes                     1.1.0\n",
            "dill                          0.3.5.1\n",
            "distributed                   2022.2.0\n",
            "dlib                          19.24.0\n",
            "dm-tree                       0.1.7\n",
            "docutils                      0.17.1\n",
            "dopamine-rl                   1.0.5\n",
            "earthengine-api               0.1.321\n",
            "easydict                      1.9\n",
            "ecos                          2.0.10\n",
            "editdistance                  0.5.3\n",
            "en-core-web-sm                3.4.0\n",
            "entrypoints                   0.4\n",
            "ephem                         4.1.3\n",
            "et-xmlfile                    1.1.0\n",
            "etils                         0.7.1\n",
            "etuples                       0.3.5\n",
            "fa2                           0.3.5\n",
            "fastai                        2.7.9\n",
            "fastcore                      1.5.22\n",
            "fastdownload                  0.0.7\n",
            "fastdtw                       0.3.4\n",
            "fastjsonschema                2.16.1\n",
            "fastprogress                  1.0.3\n",
            "fastrlock                     0.8\n",
            "feather-format                0.4.1\n",
            "filelock                      3.8.0\n",
            "firebase-admin                4.4.0\n",
            "fix-yahoo-finance             0.0.22\n",
            "Flask                         1.1.4\n",
            "flatbuffers                   2.0.7\n",
            "folium                        0.12.1.post1\n",
            "frozenlist                    1.3.1\n",
            "fsspec                        2022.7.1\n",
            "future                        0.16.0\n",
            "gast                          0.5.3\n",
            "GDAL                          2.2.2\n",
            "gdown                         4.4.0\n",
            "gensim                        3.6.0\n",
            "geographiclib                 1.52\n",
            "geopy                         1.17.0\n",
            "gin-config                    0.5.0\n",
            "glob2                         0.7\n",
            "google                        2.0.3\n",
            "google-api-core               1.31.6\n",
            "google-api-python-client      1.12.11\n",
            "google-auth                   1.35.0\n",
            "google-auth-httplib2          0.0.4\n",
            "google-auth-oauthlib          0.4.6\n",
            "google-cloud-bigquery         1.21.0\n",
            "google-cloud-bigquery-storage 1.1.2\n",
            "google-cloud-core             1.0.3\n",
            "google-cloud-datastore        1.8.0\n",
            "google-cloud-firestore        1.7.0\n",
            "google-cloud-language         1.2.0\n",
            "google-cloud-storage          1.18.1\n",
            "google-cloud-translate        1.5.0\n",
            "google-colab                  1.0.0\n",
            "google-pasta                  0.2.0\n",
            "google-resumable-media        0.4.1\n",
            "googleapis-common-protos      1.56.4\n",
            "googledrivedownloader         0.4\n",
            "graphviz                      0.10.1\n",
            "greenlet                      1.1.3\n",
            "grpcio                        1.47.0\n",
            "gspread                       3.4.2\n",
            "gspread-dataframe             3.0.8\n",
            "gym                           0.25.2\n",
            "gym-notices                   0.0.8\n",
            "h5py                          3.1.0\n",
            "HeapDict                      1.0.1\n",
            "hijri-converter               2.2.4\n",
            "holidays                      0.15\n",
            "holoviews                     1.14.9\n",
            "html5lib                      1.0.1\n",
            "httpimport                    0.5.18\n",
            "httplib2                      0.17.4\n",
            "httplib2shim                  0.0.3\n",
            "httpstan                      4.6.1\n",
            "humanize                      0.5.1\n",
            "hyperopt                      0.1.2\n",
            "idna                          2.10\n",
            "imageio                       2.9.0\n",
            "imagesize                     1.4.1\n",
            "imbalanced-learn              0.8.1\n",
            "imblearn                      0.0\n",
            "imgaug                        0.4.0\n",
            "importlib-metadata            4.12.0\n",
            "importlib-resources           5.9.0\n",
            "imutils                       0.5.4\n",
            "inflect                       2.1.0\n",
            "intel-openmp                  2022.1.0\n",
            "intervaltree                  2.1.0\n",
            "ipykernel                     5.3.4\n",
            "ipython                       7.9.0\n",
            "ipython-genutils              0.2.0\n",
            "ipython-sql                   0.3.9\n",
            "ipywidgets                    7.7.1\n",
            "itsdangerous                  1.1.0\n",
            "jax                           0.3.14\n",
            "jaxlib                        0.3.14+cuda11.cudnn805\n",
            "jieba                         0.42.1\n",
            "Jinja2                        2.11.3\n",
            "joblib                        1.1.0\n",
            "jpeg4py                       0.1.4\n",
            "jsonschema                    4.3.3\n",
            "jupyter-client                6.1.12\n",
            "jupyter-console               6.1.0\n",
            "jupyter-core                  4.11.1\n",
            "jupyterlab-widgets            3.0.2\n",
            "kaggle                        1.5.12\n",
            "kapre                         0.3.7\n",
            "keras                         2.8.0\n",
            "Keras-Preprocessing           1.1.2\n",
            "keras-vis                     0.4.1\n",
            "kiwisolver                    1.4.4\n",
            "korean-lunar-calendar         0.2.1\n",
            "langcodes                     3.3.0\n",
            "libclang                      14.0.6\n",
            "librosa                       0.8.1\n",
            "lightgbm                      2.2.3\n",
            "llvmlite                      0.39.0\n",
            "lmdb                          0.99\n",
            "locket                        1.0.0\n",
            "logical-unification           0.4.5\n",
            "LunarCalendar                 0.0.9\n",
            "lxml                          4.9.1\n",
            "Markdown                      3.4.1\n",
            "MarkupSafe                    2.0.1\n",
            "marshmallow                   3.17.1\n",
            "matplotlib                    3.2.2\n",
            "matplotlib-venn               0.11.7\n",
            "miniKanren                    1.0.3\n",
            "missingno                     0.5.1\n",
            "mistune                       0.8.4\n",
            "mizani                        0.7.3\n",
            "mkl                           2019.0\n",
            "mlxtend                       0.14.0\n",
            "more-itertools                8.14.0\n",
            "moviepy                       0.2.3.5\n",
            "mpmath                        1.2.1\n",
            "msgpack                       1.0.4\n",
            "multidict                     6.0.2\n",
            "multipledispatch              0.6.0\n",
            "multitasking                  0.0.11\n",
            "murmurhash                    1.0.8\n",
            "music21                       5.5.0\n",
            "natsort                       5.5.0\n",
            "nbconvert                     5.6.1\n",
            "nbformat                      5.4.0\n",
            "netCDF4                       1.6.0\n",
            "networkx                      2.6.3\n",
            "nibabel                       3.0.2\n",
            "nltk                          3.7\n",
            "notebook                      5.3.1\n",
            "numba                         0.56.0\n",
            "numexpr                       2.8.3\n",
            "numpy                         1.21.6\n",
            "oauth2client                  4.1.3\n",
            "oauthlib                      3.2.0\n",
            "okgrade                       0.4.3\n",
            "opencv-contrib-python         4.6.0.66\n",
            "opencv-python                 4.6.0.66\n",
            "opencv-python-headless        4.6.0.66\n",
            "openpyxl                      3.0.10\n",
            "opt-einsum                    3.3.0\n",
            "osqp                          0.6.2.post0\n",
            "packaging                     21.3\n",
            "palettable                    3.3.0\n",
            "pandas                        1.3.5\n",
            "pandas-datareader             0.9.0\n",
            "pandas-gbq                    0.13.3\n",
            "pandas-profiling              1.4.1\n",
            "pandocfilters                 1.5.0\n",
            "panel                         0.12.1\n",
            "param                         1.12.2\n",
            "parso                         0.8.3\n",
            "partd                         1.3.0\n",
            "pastel                        0.2.1\n",
            "pathlib                       1.0.1\n",
            "pathy                         0.6.2\n",
            "patsy                         0.5.2\n",
            "pep517                        0.13.0\n",
            "pexpect                       4.8.0\n",
            "pickleshare                   0.7.5\n",
            "Pillow                        7.1.2\n",
            "pip                           21.1.3\n",
            "pip-tools                     6.2.0\n",
            "plotly                        5.5.0\n",
            "plotnine                      0.8.0\n",
            "pluggy                        0.7.1\n",
            "pooch                         1.6.0\n",
            "portpicker                    1.3.9\n",
            "prefetch-generator            1.0.1\n",
            "preshed                       3.0.7\n",
            "prettytable                   3.4.0\n",
            "progressbar2                  3.38.0\n",
            "promise                       2.3\n",
            "prompt-toolkit                2.0.10\n",
            "prophet                       1.1\n",
            "protobuf                      3.17.3\n",
            "psutil                        5.4.8\n",
            "psycopg2                      2.9.3\n",
            "ptyprocess                    0.7.0\n",
            "py                            1.11.0\n",
            "pyarrow                       6.0.1\n",
            "pyasn1                        0.4.8\n",
            "pyasn1-modules                0.2.8\n",
            "pycocotools                   2.0.4\n",
            "pycparser                     2.21\n",
            "pyct                          0.4.8\n",
            "pydantic                      1.9.2\n",
            "pydata-google-auth            1.4.0\n",
            "pydot                         1.3.0\n",
            "pydot-ng                      2.0.0\n",
            "pydotplus                     2.0.2\n",
            "PyDrive                       1.3.1\n",
            "pyemd                         0.5.1\n",
            "pyerfa                        2.0.0.1\n",
            "Pygments                      2.6.1\n",
            "pygobject                     3.26.1\n",
            "pylev                         1.4.0\n",
            "pymc                          4.1.4\n",
            "PyMeeus                       0.5.11\n",
            "pymongo                       4.2.0\n",
            "pymystem3                     0.2.0\n",
            "PyOpenGL                      3.1.6\n",
            "pyparsing                     3.0.9\n",
            "pyrsistent                    0.18.1\n",
            "pysimdjson                    3.2.0\n",
            "pysndfile                     1.3.8\n",
            "PySocks                       1.7.1\n",
            "pystan                        3.3.0\n",
            "pytest                        3.6.4\n",
            "python-apt                    0.0.0\n",
            "python-chess                  0.23.11\n",
            "python-dateutil               2.8.2\n",
            "python-louvain                0.16\n",
            "python-slugify                6.1.2\n",
            "python-utils                  3.3.3\n",
            "pytz                          2022.2.1\n",
            "pyviz-comms                   2.2.1\n",
            "PyWavelets                    1.3.0\n",
            "PyYAML                        6.0\n",
            "pyzmq                         23.2.1\n",
            "qdldl                         0.1.5.post2\n",
            "qudida                        0.0.4\n",
            "regex                         2022.6.2\n",
            "requests                      2.23.0\n",
            "requests-oauthlib             1.3.1\n",
            "resampy                       0.4.0\n",
            "rpy2                          3.4.5\n",
            "rsa                           4.9\n",
            "scikit-image                  0.18.3\n",
            "scikit-learn                  1.0.2\n",
            "scipy                         1.7.3\n",
            "screen-resolution-extra       0.0.0\n",
            "scs                           3.2.0\n",
            "seaborn                       0.11.2\n",
            "Send2Trash                    1.8.0\n",
            "setuptools                    57.4.0\n",
            "setuptools-git                1.2\n",
            "Shapely                       1.8.4\n",
            "six                           1.15.0\n",
            "sklearn-pandas                1.8.0\n",
            "smart-open                    5.2.1\n",
            "snowballstemmer               2.2.0\n",
            "sortedcontainers              2.4.0\n",
            "SoundFile                     0.10.3.post1\n",
            "spacy                         3.4.1\n",
            "spacy-legacy                  3.0.10\n",
            "spacy-loggers                 1.0.3\n",
            "Sphinx                        1.8.6\n",
            "sphinxcontrib-serializinghtml 1.1.5\n",
            "sphinxcontrib-websupport      1.2.4\n",
            "SQLAlchemy                    1.4.40\n",
            "sqlparse                      0.4.2\n",
            "srsly                         2.4.4\n",
            "statsmodels                   0.12.2\n",
            "sympy                         1.7.1\n",
            "tables                        3.7.0\n",
            "tabulate                      0.8.10\n",
            "tblib                         1.7.0\n",
            "tenacity                      8.0.1\n",
            "tensorboard                   2.8.0\n",
            "tensorboard-data-server       0.6.1\n",
            "tensorboard-plugin-wit        1.8.1\n",
            "tensorflow                    2.8.2+zzzcolab20220719082949\n",
            "tensorflow-datasets           4.6.0\n",
            "tensorflow-estimator          2.8.0\n",
            "tensorflow-gcs-config         2.8.0\n",
            "tensorflow-hub                0.12.0\n",
            "tensorflow-io-gcs-filesystem  0.26.0\n",
            "tensorflow-metadata           1.10.0\n",
            "tensorflow-probability        0.16.0\n",
            "termcolor                     1.1.0\n",
            "terminado                     0.13.3\n",
            "testpath                      0.6.0\n",
            "text-unidecode                1.3\n",
            "textblob                      0.15.3\n",
            "thinc                         8.1.0\n",
            "threadpoolctl                 3.1.0\n",
            "tifffile                      2021.11.2\n",
            "toml                          0.10.2\n",
            "tomli                         2.0.1\n",
            "toolz                         0.12.0\n",
            "torch                         1.12.1+cu113\n",
            "torchaudio                    0.12.1+cu113\n",
            "torchsummary                  1.5.1\n",
            "torchtext                     0.13.1\n",
            "torchvision                   0.13.1+cu113\n",
            "tornado                       5.1.1\n",
            "tqdm                          4.64.0\n",
            "traitlets                     5.1.1\n",
            "tweepy                        3.10.0\n",
            "typeguard                     2.7.1\n",
            "typer                         0.4.2\n",
            "typing-extensions             4.1.1\n",
            "tzlocal                       1.5.1\n",
            "ujson                         5.4.0\n",
            "uritemplate                   3.0.1\n",
            "urllib3                       1.24.3\n",
            "vega-datasets                 0.9.0\n",
            "wasabi                        0.10.1\n",
            "wcwidth                       0.2.5\n",
            "webargs                       8.2.0\n",
            "webencodings                  0.5.1\n",
            "Werkzeug                      1.0.1\n",
            "wheel                         0.37.1\n",
            "widgetsnbextension            3.6.1\n",
            "wordcloud                     1.8.2.2\n",
            "wrapt                         1.14.1\n",
            "xarray                        0.20.2\n",
            "xarray-einstats               0.2.2\n",
            "xgboost                       0.90\n",
            "xkit                          0.0.0\n",
            "xlrd                          1.1.0\n",
            "xlwt                          1.3.0\n",
            "yarl                          1.8.1\n",
            "yellowbrick                   1.5\n",
            "zict                          2.2.0\n",
            "zipp                          3.8.1\n"
          ]
        }
      ]
    }
  ],
  "metadata": {
    "hide_input": false,
    "kernelspec": {
      "display_name": "Python 3.10.6 ('geo')",
      "language": "python",
      "name": "python3"
    },
    "language_info": {
      "codemirror_mode": {
        "name": "ipython",
        "version": 3
      },
      "file_extension": ".py",
      "mimetype": "text/x-python",
      "name": "python",
      "nbconvert_exporter": "python",
      "pygments_lexer": "ipython3",
      "version": "3.10.6"
    },
    "toc": {
      "base_numbering": 1,
      "nav_menu": {},
      "number_sections": true,
      "sideBar": true,
      "skip_h1_title": false,
      "title_cell": "Table of Contents",
      "title_sidebar": "Contents",
      "toc_cell": false,
      "toc_position": {},
      "toc_section_display": true,
      "toc_window_display": false
    },
    "vscode": {
      "interpreter": {
        "hash": "fcf400e0f811129b326579853ca981b4fa252510e9334ec88f55850bc1eea919"
      }
    },
    "colab": {
      "provenance": [],
      "collapsed_sections": [],
      "include_colab_link": true
    }
  },
  "nbformat": 4,
  "nbformat_minor": 5
}
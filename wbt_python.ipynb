{
  "nbformat": 4,
  "nbformat_minor": 0,
  "metadata": {
    "colab": {
      "provenance": [],
      "authorship_tag": "ABX9TyPiRYLUwy4l4RlEQG+AZhO6",
      "include_colab_link": true
    },
    "kernelspec": {
      "name": "python3",
      "display_name": "Python 3"
    },
    "language_info": {
      "name": "python"
    }
  },
  "cells": [
    {
      "cell_type": "markdown",
      "metadata": {
        "id": "view-in-github",
        "colab_type": "text"
      },
      "source": [
        "<a href=\"https://colab.research.google.com/github/datamongerbonny/Large-Data-Resources/blob/main/wbt_python.ipynb\" target=\"_parent\"><img src=\"https://colab.research.google.com/assets/colab-badge.svg\" alt=\"Open In Colab\"/></a>"
      ]
    },
    {
      "cell_type": "code",
      "source": [
        "!pip install whitebox-workflows"
      ],
      "metadata": {
        "colab": {
          "base_uri": "https://localhost:8080/"
        },
        "id": "xxC67pQwwdCX",
        "outputId": "2c04d440-fed8-4a50-cebb-2dad66f03222"
      },
      "execution_count": 1,
      "outputs": [
        {
          "output_type": "stream",
          "name": "stdout",
          "text": [
            "Looking in indexes: https://pypi.org/simple, https://us-python.pkg.dev/colab-wheels/public/simple/\n",
            "Requirement already satisfied: whitebox-workflows in /usr/local/lib/python3.8/dist-packages (1.0.7)\n"
          ]
        }
      ]
    },
    {
      "cell_type": "code",
      "execution_count": 2,
      "metadata": {
        "id": "rFQE7PVGwVnt"
      },
      "outputs": [],
      "source": [
        "import whitebox_workflows as wbw"
      ]
    },
    {
      "cell_type": "code",
      "source": [
        "wbe = wbw.WbEnvironment()"
      ],
      "metadata": {
        "id": "g2BBwpdMwqqh"
      },
      "execution_count": 3,
      "outputs": []
    },
    {
      "cell_type": "code",
      "source": [
        "import math"
      ],
      "metadata": {
        "id": "74WKaUVByGrO"
      },
      "execution_count": 4,
      "outputs": []
    },
    {
      "cell_type": "code",
      "source": [
        "wbe.verbose = True\n",
        "wbe.max_procs = -1"
      ],
      "metadata": {
        "id": "GgLwIN-2yGuV"
      },
      "execution_count": 5,
      "outputs": []
    },
    {
      "cell_type": "code",
      "source": [
        "dem = wbe.read_raster('/content/clipped_08_Sent.tif')"
      ],
      "metadata": {
        "id": "1qmem5a7EXhd"
      },
      "execution_count": 6,
      "outputs": []
    },
    {
      "cell_type": "code",
      "source": [
        "print(f'Rows: {dem.configs.rows}')\n",
        "print(f'Columns: {dem.configs.columns}')\n",
        "print(f'Resolution (x direction): {dem.configs.resolution_x}')\n",
        "print(f'Resolution (y direction): {dem.configs.resolution_y}')\n",
        "print(f'North: {dem.configs.north}')\n",
        "print(f'South: {dem.configs.south}')\n",
        "print(f'East: {dem.configs.east}')\n",
        "print(f'West: {dem.configs.west}')\n",
        "print(f'Min value: {dem.configs.minimum}')\n",
        "print(f'Max value: {dem.configs.maximum}')\n",
        "print(f'EPSG code: {dem.configs.epsg_code}') # 0 if not set\n",
        "print(f'Nodata value: {dem.configs.nodata}')"
      ],
      "metadata": {
        "colab": {
          "base_uri": "https://localhost:8080/"
        },
        "id": "z_HKunDMEmJJ",
        "outputId": "173ddec8-dcfc-4ecb-acd2-d94b3bc04d43"
      },
      "execution_count": 7,
      "outputs": [
        {
          "output_type": "stream",
          "name": "stdout",
          "text": [
            "Rows: 1689\n",
            "Columns: 1265\n",
            "Resolution (x direction): 26.19778450592886\n",
            "Resolution (y direction): 25.763999999999832\n",
            "North: 3067246.119\n",
            "South: 3023756.487\n",
            "East: 444748.74521549407\n",
            "West: 411634.7456\n",
            "Min value: 0.0\n",
            "Max value: 1.0\n",
            "EPSG code: 24312\n",
            "Nodata value: -32768.0\n"
          ]
        }
      ]
    },
    {
      "cell_type": "code",
      "source": [
        "print(f'Data type: {dem.configs.data_type}') "
      ],
      "metadata": {
        "colab": {
          "base_uri": "https://localhost:8080/"
        },
        "id": "i44vKw1xEu2s",
        "outputId": "a75fe4a3-4c83-4743-99cb-b6dd149bc757"
      },
      "execution_count": 8,
      "outputs": [
        {
          "output_type": "stream",
          "name": "stdout",
          "text": [
            "Data type: RasterDataType.F32\n"
          ]
        }
      ]
    },
    {
      "cell_type": "code",
      "source": [
        "print(f'Photometric interpretation: {dem.configs.photometric_interp}')"
      ],
      "metadata": {
        "colab": {
          "base_uri": "https://localhost:8080/"
        },
        "id": "lrRM6UYME0at",
        "outputId": "ea92c0ef-dafa-479f-b1bf-3e46126b351c"
      },
      "execution_count": 9,
      "outputs": [
        {
          "output_type": "stream",
          "name": "stdout",
          "text": [
            "Photometric interpretation: PhotometricInterpretation.Continuous\n"
          ]
        }
      ]
    },
    {
      "cell_type": "code",
      "source": [
        "band2, band3, band4, band5 = wbe.read_rasters('band2.TIF', 'band3.TIF', 'band4.TIF', 'band5.TIF')"
      ],
      "metadata": {
        "id": "48MaGLIpNdRI"
      },
      "execution_count": 10,
      "outputs": []
    },
    {
      "cell_type": "code",
      "source": [
        "true_colour_composite = wbe.create_colour_composite(\n",
        "    red=band4, \n",
        "    green=band3, \n",
        "    blue=band2,\n",
        "    enhance=False,\n",
        "    treat_zeros_as_nodata=False)\n",
        " "
      ],
      "metadata": {
        "id": "5rdpBqGhNqDW"
      },
      "execution_count": 11,
      "outputs": []
    },
    {
      "cell_type": "code",
      "source": [
        "wbe.write_raster(true_colour_composite, 'true_cc.tif', compress=True)"
      ],
      "metadata": {
        "id": "CGsEqhGYNqHc"
      },
      "execution_count": 12,
      "outputs": []
    },
    {
      "cell_type": "code",
      "source": [
        "bce = wbe.balance_contrast_enhancement(true_colour_composite)"
      ],
      "metadata": {
        "id": "CCTAfdZrPJ2L"
      },
      "execution_count": 13,
      "outputs": []
    },
    {
      "cell_type": "code",
      "source": [
        "dds = wbe.direct_decorrelation_stretch(bce, achromatic_factor=0.3)\n",
        "wbe.write_raster(dds, 'final_true_cc.tif', True)"
      ],
      "metadata": {
        "id": "48ppzswaPJ_y"
      },
      "execution_count": 14,
      "outputs": []
    },
    {
      "cell_type": "code",
      "source": [
        "false_colour_composite = wbe.create_colour_composite(band5, band4, band3, enhance=False)"
      ],
      "metadata": {
        "id": "98AcKU1bPnzD"
      },
      "execution_count": 15,
      "outputs": []
    },
    {
      "cell_type": "code",
      "source": [
        "bce = wbe.balance_contrast_enhancement(false_colour_composite)"
      ],
      "metadata": {
        "id": "kyo3CFGgPfaE"
      },
      "execution_count": 16,
      "outputs": []
    },
    {
      "cell_type": "code",
      "source": [
        "dds = wbe.direct_decorrelation_stretch(bce, achromatic_factor=0.3)\n",
        "wbe.write_raster(dds, 'final_false_cc.tif', True)"
      ],
      "metadata": {
        "id": "HfSexEaJPzc3"
      },
      "execution_count": 17,
      "outputs": []
    },
    {
      "cell_type": "code",
      "source": [
        "band1 = wbe.read_rasters('band1.TIF')"
      ],
      "metadata": {
        "id": "smI41ybyQkSa"
      },
      "execution_count": 18,
      "outputs": []
    },
    {
      "cell_type": "code",
      "source": [
        "# Calculate the normalized difference vegetation index...\n",
        "ndvi = (band5 - band4) / (band5 + band4)\n",
        "wbe.write_raster(ndvi, 'ndvi.tif', compress=True)\n",
        "\n"
      ],
      "metadata": {
        "id": "GAekjdAtP-VP"
      },
      "execution_count": 20,
      "outputs": []
    }
  ]
}